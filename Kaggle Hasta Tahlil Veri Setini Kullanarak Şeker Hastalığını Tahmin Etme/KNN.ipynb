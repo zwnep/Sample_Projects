{
 "cells": [
  {
   "cell_type": "markdown",
   "id": "581edb72-8f29-47bd-be1f-0044c7b0e9b2",
   "metadata": {},
   "source": [
    "K-Nearest Neighbours (KNN) -> Daha önce elde edilen noktalara bakarak yeni bir nokta geldiği zaman onun hangi grupta olduğunu bulmak için kullanılır.\n",
    "\n",
    "(Gruplama yapılıp hangi gruba yakınsa o gruba dahil.)\n",
    "\n",
    "EN yakında K tane komşu nokta bulunur, en çok hangi gruptan komşu varsa yeni gelen nokta o gruptan olduğu kabul edilir.\n",
    "\n",
    "Euclidean Distance\n",
    "\n",
    "Amaç: Veri setini iki kısma ayıracağız; 1. kısımı modelimizi(KNN) eğitmek için kullancağız, 2. kısmı ise modelin başarısını (% olarak) test etmek için kullanacağız."
   ]
  },
  {
   "cell_type": "code",
   "execution_count": 2,
   "id": "5d950fee-520e-404f-bdff-551d46a5963d",
   "metadata": {},
   "outputs": [],
   "source": [
    "import pandas as pd \n",
    "import matplotlib.pyplot as plt\n",
    "import numpy as np\n",
    "from sklearn.model_selection import train_test_split\n",
    "from sklearn.neighbors import KNeighborsClassifier"
   ]
  },
  {
   "cell_type": "code",
   "execution_count": 3,
   "id": "c2ad4647-9fc5-463e-aa07-29eaed84d6da",
   "metadata": {},
   "outputs": [
    {
     "data": {
      "text/html": [
       "<div>\n",
       "<style scoped>\n",
       "    .dataframe tbody tr th:only-of-type {\n",
       "        vertical-align: middle;\n",
       "    }\n",
       "\n",
       "    .dataframe tbody tr th {\n",
       "        vertical-align: top;\n",
       "    }\n",
       "\n",
       "    .dataframe thead th {\n",
       "        text-align: right;\n",
       "    }\n",
       "</style>\n",
       "<table border=\"1\" class=\"dataframe\">\n",
       "  <thead>\n",
       "    <tr style=\"text-align: right;\">\n",
       "      <th></th>\n",
       "      <th>Pregnancies</th>\n",
       "      <th>Glucose</th>\n",
       "      <th>BloodPressure</th>\n",
       "      <th>SkinThickness</th>\n",
       "      <th>Insulin</th>\n",
       "      <th>BMI</th>\n",
       "      <th>DiabetesPedigreeFunction</th>\n",
       "      <th>Age</th>\n",
       "      <th>Outcome</th>\n",
       "    </tr>\n",
       "  </thead>\n",
       "  <tbody>\n",
       "    <tr>\n",
       "      <th>0</th>\n",
       "      <td>6</td>\n",
       "      <td>148</td>\n",
       "      <td>72</td>\n",
       "      <td>35</td>\n",
       "      <td>0</td>\n",
       "      <td>33.6</td>\n",
       "      <td>0.627</td>\n",
       "      <td>50</td>\n",
       "      <td>1</td>\n",
       "    </tr>\n",
       "    <tr>\n",
       "      <th>1</th>\n",
       "      <td>1</td>\n",
       "      <td>85</td>\n",
       "      <td>66</td>\n",
       "      <td>29</td>\n",
       "      <td>0</td>\n",
       "      <td>26.6</td>\n",
       "      <td>0.351</td>\n",
       "      <td>31</td>\n",
       "      <td>0</td>\n",
       "    </tr>\n",
       "    <tr>\n",
       "      <th>2</th>\n",
       "      <td>8</td>\n",
       "      <td>183</td>\n",
       "      <td>64</td>\n",
       "      <td>0</td>\n",
       "      <td>0</td>\n",
       "      <td>23.3</td>\n",
       "      <td>0.672</td>\n",
       "      <td>32</td>\n",
       "      <td>1</td>\n",
       "    </tr>\n",
       "    <tr>\n",
       "      <th>3</th>\n",
       "      <td>1</td>\n",
       "      <td>89</td>\n",
       "      <td>66</td>\n",
       "      <td>23</td>\n",
       "      <td>94</td>\n",
       "      <td>28.1</td>\n",
       "      <td>0.167</td>\n",
       "      <td>21</td>\n",
       "      <td>0</td>\n",
       "    </tr>\n",
       "    <tr>\n",
       "      <th>4</th>\n",
       "      <td>0</td>\n",
       "      <td>137</td>\n",
       "      <td>40</td>\n",
       "      <td>35</td>\n",
       "      <td>168</td>\n",
       "      <td>43.1</td>\n",
       "      <td>2.288</td>\n",
       "      <td>33</td>\n",
       "      <td>1</td>\n",
       "    </tr>\n",
       "  </tbody>\n",
       "</table>\n",
       "</div>"
      ],
      "text/plain": [
       "   Pregnancies  Glucose  BloodPressure  SkinThickness  Insulin   BMI  \\\n",
       "0            6      148             72             35        0  33.6   \n",
       "1            1       85             66             29        0  26.6   \n",
       "2            8      183             64              0        0  23.3   \n",
       "3            1       89             66             23       94  28.1   \n",
       "4            0      137             40             35      168  43.1   \n",
       "\n",
       "   DiabetesPedigreeFunction  Age  Outcome  \n",
       "0                     0.627   50        1  \n",
       "1                     0.351   31        0  \n",
       "2                     0.672   32        1  \n",
       "3                     0.167   21        0  \n",
       "4                     2.288   33        1  "
      ]
     },
     "execution_count": 3,
     "metadata": {},
     "output_type": "execute_result"
    }
   ],
   "source": [
    "data = pd.read_csv(\"diabetes.csv\")\n",
    "data.head()"
   ]
  },
  {
   "cell_type": "code",
   "execution_count": 4,
   "id": "5e766b24-350a-4043-bdde-52c1e8aea13d",
   "metadata": {},
   "outputs": [
    {
     "name": "stdout",
     "output_type": "stream",
     "text": [
      "<class 'pandas.core.frame.DataFrame'>\n",
      "RangeIndex: 768 entries, 0 to 767\n",
      "Data columns (total 9 columns):\n",
      " #   Column                    Non-Null Count  Dtype  \n",
      "---  ------                    --------------  -----  \n",
      " 0   Pregnancies               768 non-null    int64  \n",
      " 1   Glucose                   768 non-null    int64  \n",
      " 2   BloodPressure             768 non-null    int64  \n",
      " 3   SkinThickness             768 non-null    int64  \n",
      " 4   Insulin                   768 non-null    int64  \n",
      " 5   BMI                       768 non-null    float64\n",
      " 6   DiabetesPedigreeFunction  768 non-null    float64\n",
      " 7   Age                       768 non-null    int64  \n",
      " 8   Outcome                   768 non-null    int64  \n",
      "dtypes: float64(2), int64(7)\n",
      "memory usage: 54.1 KB\n"
     ]
    }
   ],
   "source": [
    "data.info()"
   ]
  },
  {
   "cell_type": "code",
   "execution_count": 5,
   "id": "59a5743e-d87c-4abc-967c-100ddb02018e",
   "metadata": {},
   "outputs": [
    {
     "data": {
      "text/html": [
       "<div>\n",
       "<style scoped>\n",
       "    .dataframe tbody tr th:only-of-type {\n",
       "        vertical-align: middle;\n",
       "    }\n",
       "\n",
       "    .dataframe tbody tr th {\n",
       "        vertical-align: top;\n",
       "    }\n",
       "\n",
       "    .dataframe thead th {\n",
       "        text-align: right;\n",
       "    }\n",
       "</style>\n",
       "<table border=\"1\" class=\"dataframe\">\n",
       "  <thead>\n",
       "    <tr style=\"text-align: right;\">\n",
       "      <th></th>\n",
       "      <th>Pregnancies</th>\n",
       "      <th>Glucose</th>\n",
       "      <th>BloodPressure</th>\n",
       "      <th>SkinThickness</th>\n",
       "      <th>Insulin</th>\n",
       "      <th>BMI</th>\n",
       "      <th>DiabetesPedigreeFunction</th>\n",
       "      <th>Age</th>\n",
       "      <th>Outcome</th>\n",
       "    </tr>\n",
       "  </thead>\n",
       "  <tbody>\n",
       "    <tr>\n",
       "      <th>count</th>\n",
       "      <td>768.000000</td>\n",
       "      <td>768.000000</td>\n",
       "      <td>768.000000</td>\n",
       "      <td>768.000000</td>\n",
       "      <td>768.000000</td>\n",
       "      <td>768.000000</td>\n",
       "      <td>768.000000</td>\n",
       "      <td>768.000000</td>\n",
       "      <td>768.000000</td>\n",
       "    </tr>\n",
       "    <tr>\n",
       "      <th>mean</th>\n",
       "      <td>3.845052</td>\n",
       "      <td>120.894531</td>\n",
       "      <td>69.105469</td>\n",
       "      <td>20.536458</td>\n",
       "      <td>79.799479</td>\n",
       "      <td>31.992578</td>\n",
       "      <td>0.471876</td>\n",
       "      <td>33.240885</td>\n",
       "      <td>0.348958</td>\n",
       "    </tr>\n",
       "    <tr>\n",
       "      <th>std</th>\n",
       "      <td>3.369578</td>\n",
       "      <td>31.972618</td>\n",
       "      <td>19.355807</td>\n",
       "      <td>15.952218</td>\n",
       "      <td>115.244002</td>\n",
       "      <td>7.884160</td>\n",
       "      <td>0.331329</td>\n",
       "      <td>11.760232</td>\n",
       "      <td>0.476951</td>\n",
       "    </tr>\n",
       "    <tr>\n",
       "      <th>min</th>\n",
       "      <td>0.000000</td>\n",
       "      <td>0.000000</td>\n",
       "      <td>0.000000</td>\n",
       "      <td>0.000000</td>\n",
       "      <td>0.000000</td>\n",
       "      <td>0.000000</td>\n",
       "      <td>0.078000</td>\n",
       "      <td>21.000000</td>\n",
       "      <td>0.000000</td>\n",
       "    </tr>\n",
       "    <tr>\n",
       "      <th>25%</th>\n",
       "      <td>1.000000</td>\n",
       "      <td>99.000000</td>\n",
       "      <td>62.000000</td>\n",
       "      <td>0.000000</td>\n",
       "      <td>0.000000</td>\n",
       "      <td>27.300000</td>\n",
       "      <td>0.243750</td>\n",
       "      <td>24.000000</td>\n",
       "      <td>0.000000</td>\n",
       "    </tr>\n",
       "    <tr>\n",
       "      <th>50%</th>\n",
       "      <td>3.000000</td>\n",
       "      <td>117.000000</td>\n",
       "      <td>72.000000</td>\n",
       "      <td>23.000000</td>\n",
       "      <td>30.500000</td>\n",
       "      <td>32.000000</td>\n",
       "      <td>0.372500</td>\n",
       "      <td>29.000000</td>\n",
       "      <td>0.000000</td>\n",
       "    </tr>\n",
       "    <tr>\n",
       "      <th>75%</th>\n",
       "      <td>6.000000</td>\n",
       "      <td>140.250000</td>\n",
       "      <td>80.000000</td>\n",
       "      <td>32.000000</td>\n",
       "      <td>127.250000</td>\n",
       "      <td>36.600000</td>\n",
       "      <td>0.626250</td>\n",
       "      <td>41.000000</td>\n",
       "      <td>1.000000</td>\n",
       "    </tr>\n",
       "    <tr>\n",
       "      <th>max</th>\n",
       "      <td>17.000000</td>\n",
       "      <td>199.000000</td>\n",
       "      <td>122.000000</td>\n",
       "      <td>99.000000</td>\n",
       "      <td>846.000000</td>\n",
       "      <td>67.100000</td>\n",
       "      <td>2.420000</td>\n",
       "      <td>81.000000</td>\n",
       "      <td>1.000000</td>\n",
       "    </tr>\n",
       "  </tbody>\n",
       "</table>\n",
       "</div>"
      ],
      "text/plain": [
       "       Pregnancies     Glucose  BloodPressure  SkinThickness     Insulin  \\\n",
       "count   768.000000  768.000000     768.000000     768.000000  768.000000   \n",
       "mean      3.845052  120.894531      69.105469      20.536458   79.799479   \n",
       "std       3.369578   31.972618      19.355807      15.952218  115.244002   \n",
       "min       0.000000    0.000000       0.000000       0.000000    0.000000   \n",
       "25%       1.000000   99.000000      62.000000       0.000000    0.000000   \n",
       "50%       3.000000  117.000000      72.000000      23.000000   30.500000   \n",
       "75%       6.000000  140.250000      80.000000      32.000000  127.250000   \n",
       "max      17.000000  199.000000     122.000000      99.000000  846.000000   \n",
       "\n",
       "              BMI  DiabetesPedigreeFunction         Age     Outcome  \n",
       "count  768.000000                768.000000  768.000000  768.000000  \n",
       "mean    31.992578                  0.471876   33.240885    0.348958  \n",
       "std      7.884160                  0.331329   11.760232    0.476951  \n",
       "min      0.000000                  0.078000   21.000000    0.000000  \n",
       "25%     27.300000                  0.243750   24.000000    0.000000  \n",
       "50%     32.000000                  0.372500   29.000000    0.000000  \n",
       "75%     36.600000                  0.626250   41.000000    1.000000  \n",
       "max     67.100000                  2.420000   81.000000    1.000000  "
      ]
     },
     "execution_count": 5,
     "metadata": {},
     "output_type": "execute_result"
    }
   ],
   "source": [
    "data.describe()"
   ]
  },
  {
   "cell_type": "code",
   "execution_count": 6,
   "id": "b99064d4-a6f7-4358-bb5a-9fb64cffc697",
   "metadata": {},
   "outputs": [],
   "source": [
    "# Outcome = 0, Sağlıklı \n",
    "# Outcome = 1, Diabet, Şeker Hastası"
   ]
  },
  {
   "cell_type": "code",
   "execution_count": 7,
   "id": "ec5b82a9-e145-4eb2-94a9-f46d3907b445",
   "metadata": {},
   "outputs": [
    {
     "data": {
      "text/plain": [
       "Pregnancies                 0\n",
       "Glucose                     0\n",
       "BloodPressure               0\n",
       "SkinThickness               0\n",
       "Insulin                     0\n",
       "BMI                         0\n",
       "DiabetesPedigreeFunction    0\n",
       "Age                         0\n",
       "Outcome                     0\n",
       "dtype: int64"
      ]
     },
     "execution_count": 7,
     "metadata": {},
     "output_type": "execute_result"
    }
   ],
   "source": [
    "data.isnull().sum()"
   ]
  },
  {
   "cell_type": "code",
   "execution_count": 8,
   "id": "2dfa6863-fb7a-4df8-a02c-a19679c1cec8",
   "metadata": {},
   "outputs": [],
   "source": [
    "seker_hastalari = data[data[\"Outcome\"] == 1]\n",
    "saglikli_kisiler = data[data[\"Outcome\"] == 0]"
   ]
  },
  {
   "cell_type": "code",
   "execution_count": 9,
   "id": "2bdfea81-5535-4cd5-93bf-79e57285fd93",
   "metadata": {},
   "outputs": [
    {
     "data": {
      "image/png": "[encoded data removed]",
      "text/plain": [
       "<Figure size 640x480 with 1 Axes>"
      ]
     },
     "metadata": {},
     "output_type": "display_data"
    }
   ],
   "source": [
    "# \"Glucose\" değerine bakarak örnek bir görselleşirme yapalım. \n",
    "# Model bütün değerlere bakarak bir tahmin gerçekleştirecek.\n",
    "# (x,y,...)\n",
    "\n",
    "plt.scatter(saglikli_kisiler.Age, saglikli_kisiler.Glucose, color=\"green\", label=\"Sağlıklı\", alpha=0.4)\n",
    "plt.scatter(seker_hastalari.Age, seker_hastalari.Glucose, color=\"red\", label=\"Şeker Hastası/Diabet\", alpha=0.4)\n",
    "plt.xlabel(\"Age\")\n",
    "plt.ylabel(\"Glucose\")\n",
    "plt.legend()\n",
    "plt.show()"
   ]
  },
  {
   "cell_type": "code",
   "execution_count": 10,
   "id": "7f1974de-d322-4694-8721-a947a90683bd",
   "metadata": {},
   "outputs": [],
   "source": [
    "# X ve y değişkenleri\n",
    "\n",
    "X = data.drop(\"Outcome\", axis=1)\n",
    "y = data[\"Outcome\"]"
   ]
  },
  {
   "cell_type": "code",
   "execution_count": 11,
   "id": "4398a75b-54a5-4cc6-affe-f6b8f394e718",
   "metadata": {},
   "outputs": [
    {
     "name": "stdout",
     "output_type": "stream",
     "text": [
      "Index(['Pregnancies', 'Glucose', 'BloodPressure', 'SkinThickness', 'Insulin',\n",
      "       'BMI', 'DiabetesPedigreeFunction', 'Age'],\n",
      "      dtype='object')\n"
     ]
    }
   ],
   "source": [
    "print(X.columns)"
   ]
  },
  {
   "cell_type": "markdown",
   "id": "2345425e-f261-4dd0-b5f5-2eb18be1fc9c",
   "metadata": {},
   "source": [
    "## Normalizasyon\n",
    "\n",
    "Normalization ile - X içerisindeki değerleri sadece 0 ve 1 arasında olacak şekilde hepsini güncelliyoruz.\n",
    "\n",
    "Eğer bu şekilde normalization yapmazsak yüksek rakamlar küçük rakamları ezer ve KNN algoritmasını yanıltabilir!\n",
    "\n",
    "Xnorm = (X − Xmin) / (Xmax − Xmin)"
   ]
  },
  {
   "cell_type": "code",
   "execution_count": 13,
   "id": "88c97379-2bba-4277-9f07-12383145bc37",
   "metadata": {},
   "outputs": [],
   "source": [
    "x_norm = (X - np.min(X)) / (np.max(X) - np.min(X))"
   ]
  },
  {
   "cell_type": "code",
   "execution_count": 14,
   "id": "2bfc4c99-3772-4f74-8cc9-0adf96db9a69",
   "metadata": {},
   "outputs": [
    {
     "name": "stdout",
     "output_type": "stream",
     "text": [
      "Normalizasyon öncesi veriler:\n",
      "\n",
      "   Pregnancies  Glucose  BloodPressure  SkinThickness  Insulin   BMI  \\\n",
      "0            6      148             72             35        0  33.6   \n",
      "1            1       85             66             29        0  26.6   \n",
      "2            8      183             64              0        0  23.3   \n",
      "3            1       89             66             23       94  28.1   \n",
      "4            0      137             40             35      168  43.1   \n",
      "\n",
      "   DiabetesPedigreeFunction  Age  \n",
      "0                     0.627   50  \n",
      "1                     0.351   31  \n",
      "2                     0.672   32  \n",
      "3                     0.167   21  \n",
      "4                     2.288   33  \n"
     ]
    }
   ],
   "source": [
    "print(\"Normalizasyon öncesi veriler:\\n\")\n",
    "print(X.head())"
   ]
  },
  {
   "cell_type": "code",
   "execution_count": 15,
   "id": "257b3bf4-592a-4ded-9059-0733cbc5a045",
   "metadata": {},
   "outputs": [
    {
     "name": "stdout",
     "output_type": "stream",
     "text": [
      "Normalizasyon sonrası veriler:\n",
      "\n",
      "   Pregnancies   Glucose  BloodPressure  SkinThickness   Insulin       BMI  \\\n",
      "0     0.007092  0.174941       0.085106       0.041371  0.000000  0.039716   \n",
      "1     0.001182  0.100473       0.078014       0.034279  0.000000  0.031442   \n",
      "2     0.009456  0.216312       0.075650       0.000000  0.000000  0.027541   \n",
      "3     0.001182  0.105201       0.078014       0.027187  0.111111  0.033215   \n",
      "4     0.000000  0.161939       0.047281       0.041371  0.198582  0.050946   \n",
      "\n",
      "   DiabetesPedigreeFunction       Age  \n",
      "0                  0.000741  0.059102  \n",
      "1                  0.000415  0.036643  \n",
      "2                  0.000794  0.037825  \n",
      "3                  0.000197  0.024823  \n",
      "4                  0.002704  0.039007  \n"
     ]
    }
   ],
   "source": [
    "print(\"Normalizasyon sonrası veriler:\\n\")\n",
    "print(x_norm.head())"
   ]
  },
  {
   "cell_type": "code",
   "execution_count": 16,
   "id": "a1a95312-faac-4ba8-bc5a-08edc0ca4bab",
   "metadata": {},
   "outputs": [],
   "source": [
    "# Eğitim için kullanacağımız veirleri elde etmiş olduk."
   ]
  },
  {
   "cell_type": "code",
   "execution_count": 42,
   "id": "4153d9bb-473e-4205-af30-80b86c074e05",
   "metadata": {},
   "outputs": [],
   "source": [
    "# train datamız ile test datamızı ayırıyoruz\n",
    "# train datamız sistemin sağlıklı insan ile hasta insanı ayırt etmesini öğrenmek için kullanılacak\n",
    "# test datamız ise bakalım makine öğrenme modelimiz doğru bir şekilde hasta ve sağlıklı insanları ayırt edebiliyor mu diye \n",
    "# test etmek için kullanılacak...\n",
    "\n",
    "x_train, x_test, y_train, y_test = train_test_split(x_norm, y, test_size=0.2, random_state=0)"
   ]
  },
  {
   "cell_type": "code",
   "execution_count": 44,
   "id": "3ea28383-df75-4643-987b-7d1252aff126",
   "metadata": {},
   "outputs": [
    {
     "name": "stdout",
     "output_type": "stream",
     "text": [
      "(614, 8)\n",
      "(614,)\n",
      "(154, 8)\n",
      "     Pregnancies   Glucose  BloodPressure  SkinThickness   Insulin       BMI  \\\n",
      "603     0.008274  0.177305       0.092199       0.034279  0.148936  0.041608   \n",
      "118     0.004728  0.114657       0.070922       0.027187  0.000000  0.033333   \n",
      "247     0.000000  0.195035       0.106383       0.039007  0.803783  0.061820   \n",
      "157     0.001182  0.128842       0.066194       0.024823  0.159574  0.029787   \n",
      "468     0.009456  0.141844       0.000000       0.000000  0.000000  0.035461   \n",
      "\n",
      "     DiabetesPedigreeFunction       Age  \n",
      "603                  0.000818  0.063830  \n",
      "118                  0.000524  0.026005  \n",
      "247                  0.000505  0.027187  \n",
      "157                  0.000985  0.027187  \n",
      "468                  0.000216  0.044917  \n"
     ]
    }
   ],
   "source": [
    "print(x_train.shape)\n",
    "print(y_train.shape)\n",
    "print(x_test.shape)\n",
    "print(x_train.head())"
   ]
  },
  {
   "cell_type": "code",
   "execution_count": 52,
   "id": "b9f7ca38-1962-4927-b32e-164a85346803",
   "metadata": {},
   "outputs": [
    {
     "name": "stdout",
     "output_type": "stream",
     "text": [
      "k=3 için Test verileriyle doğruluk sonucu:  0.7207792207792207\n"
     ]
    }
   ],
   "source": [
    "# knn modeli\n",
    "\n",
    "knn = KNeighborsClassifier(n_neighbors = 3) # n_neighbors -> k\n",
    "knn.fit(x_train, y_train)\n",
    "pred = knn.predict(x_test)\n",
    "print(\"k=3 için Test verileriyle doğruluk sonucu: \", knn.score(x_test, y_test))"
   ]
  },
  {
   "cell_type": "code",
   "execution_count": 62,
   "id": "dec3bcb9-6f44-40d8-9847-116e320223e6",
   "metadata": {},
   "outputs": [
    {
     "name": "stdout",
     "output_type": "stream",
     "text": [
      "k= 1  için doğruluk oranı -> % 61.68831168831169\n",
      "k= 2  için doğruluk oranı -> % 71.42857142857143\n",
      "k= 3  için doğruluk oranı -> % 72.07792207792207\n",
      "k= 4  için doğruluk oranı -> % 77.27272727272727\n",
      "k= 5  için doğruluk oranı -> % 75.32467532467533\n",
      "k= 6  için doğruluk oranı -> % 77.92207792207793\n",
      "k= 7  için doğruluk oranı -> % 75.97402597402598\n",
      "k= 8  için doğruluk oranı -> % 77.92207792207793\n",
      "k= 9  için doğruluk oranı -> % 77.27272727272727\n",
      "k= 10  için doğruluk oranı -> % 79.22077922077922\n"
     ]
    }
   ],
   "source": [
    "\n",
    "\n",
    "# peki k kaç olmalı??\n",
    "\n",
    "# en iyi k değerini bulmak için\n",
    "\n",
    "for k in range(1,11):\n",
    "    knn_new = KNeighborsClassifier(n_neighbors = k)\n",
    "    knn_new = knn_new.fit(x_train, y_train)\n",
    "    print(\"k=\",k ,\" için doğruluk oranı -> %\", knn_new.score(x_test, y_test)*100)"
   ]
  },
  {
   "cell_type": "code",
   "execution_count": 58,
   "id": "62dac133-4ff2-4fc2-8e62-d1afdb695f34",
   "metadata": {},
   "outputs": [
    {
     "name": "stderr",
     "output_type": "stream",
     "text": [
      "/opt/anaconda3/lib/python3.11/site-packages/sklearn/base.py:439: UserWarning: X does not have valid feature names, but MinMaxScaler was fitted with feature names\n",
      "  warnings.warn(\n",
      "/opt/anaconda3/lib/python3.11/site-packages/sklearn/base.py:439: UserWarning: X does not have valid feature names, but KNeighborsClassifier was fitted with feature names\n",
      "  warnings.warn(\n"
     ]
    },
    {
     "data": {
      "text/plain": [
       "1"
      ]
     },
     "execution_count": 58,
     "metadata": {},
     "output_type": "execute_result"
    }
   ],
   "source": [
    "# Yeni bir hasta tahmini için:\n",
    "from sklearn.preprocessing import MinMaxScaler\n",
    "\n",
    "# normalization yapıyoruz - daha hızlı normalization yapabilmek için MinMax  scaler kullandık...\n",
    "sc = MinMaxScaler()\n",
    "sc.fit_transform(x_test)\n",
    "\n",
    "new_prediction = knn.predict(sc.transform(np.array([[6,148,72,35,0,33.6,0.627,50]])))\n",
    "new_prediction[0]"
   ]
  },
  {
   "cell_type": "code",
   "execution_count": null,
   "id": "61c91f5e-5020-458a-909a-c1c721dcfa9e",
   "metadata": {},
   "outputs": [],
   "source": []
  }
 ],
 "metadata": {
  "kernelspec": {
   "display_name": "Python 3 (ipykernel)",
   "language": "python",
   "name": "python3"
  },
  "language_info": {
   "codemirror_mode": {
    "name": "ipython",
    "version": 3
   },
   "file_extension": ".py",
   "mimetype": "text/x-python",
   "name": "python",
   "nbconvert_exporter": "python",
   "pygments_lexer": "ipython3",
   "version": "3.11.7"
  }
 },
 "nbformat": 4,
 "nbformat_minor": 5
}
