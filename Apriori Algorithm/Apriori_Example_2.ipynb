{
  "nbformat": 4,
  "nbformat_minor": 0,
  "metadata": {
    "colab": {
      "provenance": []
    },
    "kernelspec": {
      "name": "python3",
      "display_name": "Python 3"
    },
    "language_info": {
      "name": "python"
    }
  },
  "cells": [
    {
      "cell_type": "code",
      "source": [
        "!pip install apyori"
      ],
      "metadata": {
        "id": "QjVSLWMSJoA1"
      },
      "execution_count": null,
      "outputs": []
    },
    {
      "cell_type": "code",
      "source": [
        "import numpy as nm\n",
        "import matplotlib.pyplot as mtp\n",
        "import pandas as pd\n",
        "from apyori import apriori"
      ],
      "metadata": {
        "id": "7uqydGghJXP7"
      },
      "execution_count": null,
      "outputs": []
    },
    {
      "cell_type": "code",
      "source": [
        "import pandas as pd\n",
        "file_Path = 'https://raw.githubusercontent.com/IshantWadhwa4/Recomandation_System/master/AprioriAlgo/store_data.csv'\n",
        "store_Data = pd.read_csv(file_Path,header=None)"
      ],
      "metadata": {
        "id": "BiDa5WLeo7A0"
      },
      "execution_count": null,
      "outputs": []
    },
    {
      "cell_type": "code",
      "source": [
        "final_data = pd.DataFrame(columns=['Transaction','Items'])\n",
        "store_Data = store_Data.T\n",
        "for col in store_Data.columns:\n",
        "    col_data = list(store_Data[col].dropna())\n",
        "    temp_dict = {'Transaction':[int(col)]*len(col_data),  'Items':col_data }\n",
        "    temp_df = pd.DataFrame(temp_dict)\n",
        "    final_data = final_data._append(temp_df,ignore_index=True)\n",
        "final_data.head(20)"
      ],
      "metadata": {
        "id": "Ktgf13rSP8eq"
      },
      "execution_count": null,
      "outputs": []
    },
    {
      "cell_type": "code",
      "source": [
        "final_data.head(30)"
      ],
      "metadata": {
        "id": "4UoaGVRYk32j"
      },
      "execution_count": null,
      "outputs": []
    },
    {
      "cell_type": "code",
      "source": [
        "import seaborn as sns\n",
        "import matplotlib.pyplot as plt\n",
        "plt.figure(figsize=(10,7))\n",
        "order = final_data['Items'].value_counts()[:10].index\n",
        "sns.countplot(x = 'Items',data=final_data, order = order)\n",
        "plt.title('Top 10 most selling items')\n",
        "plt.show()"
      ],
      "metadata": {
        "id": "_Uaz-b-BP7an"
      },
      "execution_count": null,
      "outputs": []
    },
    {
      "cell_type": "code",
      "source": [
        "len(final_data['Items'].unique())\n",
        "len(final_data['Transaction'].unique())"
      ],
      "metadata": {
        "id": "ZdQ3xWO6LBNO"
      },
      "execution_count": null,
      "outputs": []
    },
    {
      "cell_type": "code",
      "source": [
        "final_data_dummy = pd.get_dummies(final_data['Items'])\n",
        "final_data_dummy['Transaction'] = final_data['Transaction']\n",
        "def encode_units(x):\n",
        "    if x <=  0:\n",
        "        return 0\n",
        "    if x >=  1:\n",
        "        return 1\n",
        "format_data= final_data_dummy.groupby('Transaction').sum()\n",
        "format_data = format_data.applymap(encode_units)\n",
        "format_data.head()"
      ],
      "metadata": {
        "id": "C0vq1eNmLDZA"
      },
      "execution_count": null,
      "outputs": []
    },
    {
      "cell_type": "code",
      "source": [
        "from mlxtend.frequent_patterns import apriori\n",
        "from mlxtend.frequent_patterns import association_rules\n",
        "frequent_itemsets  =  apriori(format_data, min_support = 0.01, use_colnames = True)\n",
        "frequent_itemsets.head()"
      ],
      "metadata": {
        "id": "ReaEeSd3LMlo"
      },
      "execution_count": null,
      "outputs": []
    },
    {
      "cell_type": "code",
      "source": [
        "result = association_rules(frequent_itemsets, metric = \"lift\", min_threshold=0.01)\n",
        "result.sort_values('lift',ascending=False)"
      ],
      "metadata": {
        "id": "hGVacrulI2CQ"
      },
      "execution_count": null,
      "outputs": []
    }
  ]
}