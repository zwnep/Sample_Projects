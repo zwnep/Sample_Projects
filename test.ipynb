{
 "cells": [
  {
   "cell_type": "code",
   "execution_count": 1,
   "id": "f04c54cb-fc1d-4822-a229-d1193d01e4ba",
   "metadata": {},
   "outputs": [
    {
     "name": "stdout",
     "output_type": "stream",
     "text": [
      "test\n"
     ]
    }
   ],
   "source": [
    "import tensorflow as tf\n",
    "from tensorflow.keras import datasets,layers, models\n",
    "\n",
    "print(\"test\")"
   ]
  },
  {
   "cell_type": "code",
   "execution_count": null,
   "id": "5d94b859-4a88-4cbd-89ac-5d0cfd86d7d6",
   "metadata": {},
   "outputs": [],
   "source": [
    "# yukarıda yazılan bu kod bilgisayarınızda tensorflow ve kerasın yüklü olup olmadığını anlamak için \n",
    "# eğer test yazısını çıktı olarak veriyorsa evet yüklü \n",
    "\n",
    "# eğer göremiyorsanız öncelikle anaconda üzeride yeni bir environment oluşturulmalı\n",
    "# oluşturduktan sonra not installed kısmında yüklenmesi gerekenleri seçip yüklüyoruz\n",
    "# tekrardan denediğimizde test yazısını yazdırması gerekiyor.\n"
   ]
  }
 ],
 "metadata": {
  "kernelspec": {
   "display_name": "Python 3 (ipykernel)",
   "language": "python",
   "name": "python3"
  },
  "language_info": {
   "codemirror_mode": {
    "name": "ipython",
    "version": 3
   },
   "file_extension": ".py",
   "mimetype": "text/x-python",
   "name": "python",
   "nbconvert_exporter": "python",
   "pygments_lexer": "ipython3",
   "version": "3.11.7"
  }
 },
 "nbformat": 4,
 "nbformat_minor": 5
}
