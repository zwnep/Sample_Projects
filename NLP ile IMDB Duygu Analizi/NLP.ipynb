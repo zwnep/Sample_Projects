{
 "cells": [
  {
   "cell_type": "code",
   "execution_count": 154,
   "id": "0a92b11f-9e7a-4246-99fb-5bc4bc2727db",
   "metadata": {},
   "outputs": [],
   "source": [
    "import pandas as pd\n",
    "import numpy as np\n",
    "import matplotlib.pyplot as plt\n",
    "from sklearn.model_selection import train_test_split\n",
    "from sklearn.feature_extraction.text import CountVectorizer\n",
    "from sklearn.ensemble import RandomForestClassifier\n",
    "from sklearn.metrics import roc_auc_score\n",
    "\n",
    "import nltk \n",
    "from bs4 import BeautifulSoup\n",
    "import re\n",
    "from nltk.corpus import stopwords"
   ]
  },
  {
   "cell_type": "code",
   "execution_count": 88,
   "id": "88bc4cde-f02e-45a0-a6ec-314b280beba4",
   "metadata": {},
   "outputs": [
    {
     "data": {
      "text/html": [
       "<div>\n",
       "<style scoped>\n",
       "    .dataframe tbody tr th:only-of-type {\n",
       "        vertical-align: middle;\n",
       "    }\n",
       "\n",
       "    .dataframe tbody tr th {\n",
       "        vertical-align: top;\n",
       "    }\n",
       "\n",
       "    .dataframe thead th {\n",
       "        text-align: right;\n",
       "    }\n",
       "</style>\n",
       "<table border=\"1\" class=\"dataframe\">\n",
       "  <thead>\n",
       "    <tr style=\"text-align: right;\">\n",
       "      <th></th>\n",
       "      <th>id</th>\n",
       "      <th>sentiment</th>\n",
       "      <th>review</th>\n",
       "    </tr>\n",
       "  </thead>\n",
       "  <tbody>\n",
       "    <tr>\n",
       "      <th>0</th>\n",
       "      <td>5814_8</td>\n",
       "      <td>1</td>\n",
       "      <td>With all this stuff going down at the moment w...</td>\n",
       "    </tr>\n",
       "    <tr>\n",
       "      <th>1</th>\n",
       "      <td>2381_9</td>\n",
       "      <td>1</td>\n",
       "      <td>\\The Classic War of the Worlds\\\" by Timothy Hi...</td>\n",
       "    </tr>\n",
       "    <tr>\n",
       "      <th>2</th>\n",
       "      <td>7759_3</td>\n",
       "      <td>0</td>\n",
       "      <td>The film starts with a manager (Nicholas Bell)...</td>\n",
       "    </tr>\n",
       "    <tr>\n",
       "      <th>3</th>\n",
       "      <td>3630_4</td>\n",
       "      <td>0</td>\n",
       "      <td>It must be assumed that those who praised this...</td>\n",
       "    </tr>\n",
       "    <tr>\n",
       "      <th>4</th>\n",
       "      <td>9495_8</td>\n",
       "      <td>1</td>\n",
       "      <td>Superbly trashy and wondrously unpretentious 8...</td>\n",
       "    </tr>\n",
       "    <tr>\n",
       "      <th>...</th>\n",
       "      <td>...</td>\n",
       "      <td>...</td>\n",
       "      <td>...</td>\n",
       "    </tr>\n",
       "    <tr>\n",
       "      <th>24995</th>\n",
       "      <td>3453_3</td>\n",
       "      <td>0</td>\n",
       "      <td>It seems like more consideration has gone into...</td>\n",
       "    </tr>\n",
       "    <tr>\n",
       "      <th>24996</th>\n",
       "      <td>5064_1</td>\n",
       "      <td>0</td>\n",
       "      <td>I don't believe they made this film. Completel...</td>\n",
       "    </tr>\n",
       "    <tr>\n",
       "      <th>24997</th>\n",
       "      <td>10905_3</td>\n",
       "      <td>0</td>\n",
       "      <td>Guy is a loser. Can't get girls, needs to buil...</td>\n",
       "    </tr>\n",
       "    <tr>\n",
       "      <th>24998</th>\n",
       "      <td>10194_3</td>\n",
       "      <td>0</td>\n",
       "      <td>This 30 minute documentary Buñuel made in the ...</td>\n",
       "    </tr>\n",
       "    <tr>\n",
       "      <th>24999</th>\n",
       "      <td>8478_8</td>\n",
       "      <td>1</td>\n",
       "      <td>I saw this movie as a child and it broke my he...</td>\n",
       "    </tr>\n",
       "  </tbody>\n",
       "</table>\n",
       "<p>25000 rows × 3 columns</p>\n",
       "</div>"
      ],
      "text/plain": [
       "            id  sentiment                                             review\n",
       "0       5814_8          1  With all this stuff going down at the moment w...\n",
       "1       2381_9          1  \\The Classic War of the Worlds\\\" by Timothy Hi...\n",
       "2       7759_3          0  The film starts with a manager (Nicholas Bell)...\n",
       "3       3630_4          0  It must be assumed that those who praised this...\n",
       "4       9495_8          1  Superbly trashy and wondrously unpretentious 8...\n",
       "...        ...        ...                                                ...\n",
       "24995   3453_3          0  It seems like more consideration has gone into...\n",
       "24996   5064_1          0  I don't believe they made this film. Completel...\n",
       "24997  10905_3          0  Guy is a loser. Can't get girls, needs to buil...\n",
       "24998  10194_3          0  This 30 minute documentary Buñuel made in the ...\n",
       "24999   8478_8          1  I saw this movie as a child and it broke my he...\n",
       "\n",
       "[25000 rows x 3 columns]"
      ]
     },
     "execution_count": 88,
     "metadata": {},
     "output_type": "execute_result"
    }
   ],
   "source": [
    "data = pd.read_csv(\"NLPlabeledData.tsv\", sep=\"\\t\") # read_csv() -> .tsv dosyaları, sütunlar arasında tab karakteri (\\t) ile ayrım yapar. \n",
    "data"
   ]
  },
  {
   "cell_type": "code",
   "execution_count": 89,
   "id": "73f5ca9d-0ddf-418e-ab4b-7f0bee94c7ff",
   "metadata": {},
   "outputs": [
    {
     "name": "stdout",
     "output_type": "stream",
     "text": [
      "<class 'pandas.core.frame.DataFrame'>\n",
      "RangeIndex: 25000 entries, 0 to 24999\n",
      "Data columns (total 3 columns):\n",
      " #   Column     Non-Null Count  Dtype \n",
      "---  ------     --------------  ----- \n",
      " 0   id         25000 non-null  object\n",
      " 1   sentiment  25000 non-null  int64 \n",
      " 2   review     25000 non-null  object\n",
      "dtypes: int64(1), object(2)\n",
      "memory usage: 586.1+ KB\n"
     ]
    }
   ],
   "source": [
    "data.info()"
   ]
  },
  {
   "cell_type": "code",
   "execution_count": 90,
   "id": "a98cd4ab-7ae4-48be-8265-4013f0ebcdcf",
   "metadata": {},
   "outputs": [],
   "source": [
    "# \"sentiment\" -> 1: olumlu, 0: olumsuz\n",
    "# \"review\" -> kullanıcı yorumları"
   ]
  },
  {
   "cell_type": "code",
   "execution_count": 91,
   "id": "6ceb2177-da6f-487f-8229-a7253fe9aea9",
   "metadata": {},
   "outputs": [
    {
     "name": "stderr",
     "output_type": "stream",
     "text": [
      "[nltk_data] Downloading package stopwords to\n",
      "[nltk_data]     /Users/zeynepdemirtas/nltk_data...\n",
      "[nltk_data]   Package stopwords is already up-to-date!\n"
     ]
    },
    {
     "data": {
      "text/plain": [
       "True"
      ]
     },
     "execution_count": 91,
     "metadata": {},
     "output_type": "execute_result"
    }
   ],
   "source": [
    "# stopwords'ü temizlemek için nltk kütüphanesinden stopwords kelime setini bilgisayarımıza indirmemiz gerekiyor. \n",
    "# Özellikle HTML etiketleri, noktalama işaretleri ve anlamsız kelimeleri temizlemek için nltk kullanabiliriz.\n",
    "\n",
    "nltk.download(\"stopwords\")"
   ]
  },
  {
   "cell_type": "code",
   "execution_count": 92,
   "id": "26dd68d5-95ea-4caa-8106-3efd8338db47",
   "metadata": {},
   "outputs": [
    {
     "data": {
      "image/png": "[encoded data removed]",
      "text/plain": [
       "<Figure size 640x480 with 1 Axes>"
      ]
     },
     "metadata": {},
     "output_type": "display_data"
    }
   ],
   "source": [
    "\n",
    "data['sentiment'].value_counts().plot(kind='bar', color=['red', 'green'])\n",
    "\n",
    "plt.title('Pozitif ve Negatif Yorum Dağılımı')\n",
    "plt.xlabel('Sentiment')\n",
    "plt.ylabel('Yorum Sayısı')\n",
    "plt.xticks([0, 1], ['Negatif', 'Pozitif'], rotation=0)\n",
    "plt.show()"
   ]
  },
  {
   "cell_type": "code",
   "execution_count": 93,
   "id": "37aac7d3-e8d7-495f-a383-7440249d2449",
   "metadata": {},
   "outputs": [
    {
     "data": {
      "text/plain": [
       "\"With all this stuff going down at the moment with MJ i've started listening to his music, watching the odd documentary here and there, watched The Wiz and watched Moonwalker again. Maybe i just want to get a certain insight into this guy who i thought was really cool in the eighties just to maybe make up my mind whether he is guilty or innocent. Moonwalker is part biography, part feature film which i remember going to see at the cinema when it was originally released. Some of it has subtle messages about MJ's feeling towards the press and also the obvious message of drugs are bad m'kay.<br /><br />Visually impressive but of course this is all about Michael Jackson so unless you remotely like MJ in anyway then you are going to hate this and find it boring. Some may call MJ an egotist for consenting to the making of this movie BUT MJ and most of his fans would say that he made it for the fans which if true is really nice of him.<br /><br />The actual feature film bit when it finally starts is only on for 20 minutes or so excluding the Smooth Criminal sequence and Joe Pesci is convincing as a psychopathic all powerful drug lord. Why he wants MJ dead so bad is beyond me. Because MJ overheard his plans? Nah, Joe Pesci's character ranted that he wanted people to know it is he who is supplying drugs etc so i dunno, maybe he just hates MJ's music.<br /><br />Lots of cool things in this like MJ turning into a car and a robot and the whole Speed Demon sequence. Also, the director must have had the patience of a saint when it came to filming the kiddy Bad sequence as usually directors hate working with one kid let alone a whole bunch of them performing a complex dance scene.<br /><br />Bottom line, this movie is for people who like MJ on one level or another (which i think is most people). If not, then stay away. It does try and give off a wholesome message and ironically MJ's bestest buddy in this movie is a girl! Michael Jackson is truly one of the most talented people ever to grace this planet but is he guilty? Well, with all the attention i've gave this subject....hmmm well i don't know because people can be different behind closed doors, i know this for a fact. He is either an extremely nice but stupid guy or one of the most sickest liars. I hope he is not the latter.\""
      ]
     },
     "execution_count": 93,
     "metadata": {},
     "output_type": "execute_result"
    }
   ],
   "source": [
    "# Veri temizleme işlemi\n",
    "\n",
    "# öncelikle örnek yapalım..\n",
    "\n",
    "sample_review = data.review[0]\n",
    "sample_review"
   ]
  },
  {
   "cell_type": "code",
   "execution_count": 94,
   "id": "be36f067-e24a-46d0-bdbb-2b343441b334",
   "metadata": {},
   "outputs": [
    {
     "data": {
      "text/plain": [
       "\"With all this stuff going down at the moment with MJ i've started listening to his music, watching the odd documentary here and there, watched The Wiz and watched Moonwalker again. Maybe i just want to get a certain insight into this guy who i thought was really cool in the eighties just to maybe make up my mind whether he is guilty or innocent. Moonwalker is part biography, part feature film which i remember going to see at the cinema when it was originally released. Some of it has subtle messages about MJ's feeling towards the press and also the obvious message of drugs are bad m'kay.Visually impressive but of course this is all about Michael Jackson so unless you remotely like MJ in anyway then you are going to hate this and find it boring. Some may call MJ an egotist for consenting to the making of this movie BUT MJ and most of his fans would say that he made it for the fans which if true is really nice of him.The actual feature film bit when it finally starts is only on for 20 minutes or so excluding the Smooth Criminal sequence and Joe Pesci is convincing as a psychopathic all powerful drug lord. Why he wants MJ dead so bad is beyond me. Because MJ overheard his plans? Nah, Joe Pesci's character ranted that he wanted people to know it is he who is supplying drugs etc so i dunno, maybe he just hates MJ's music.Lots of cool things in this like MJ turning into a car and a robot and the whole Speed Demon sequence. Also, the director must have had the patience of a saint when it came to filming the kiddy Bad sequence as usually directors hate working with one kid let alone a whole bunch of them performing a complex dance scene.Bottom line, this movie is for people who like MJ on one level or another (which i think is most people). If not, then stay away. It does try and give off a wholesome message and ironically MJ's bestest buddy in this movie is a girl! Michael Jackson is truly one of the most talented people ever to grace this planet but is he guilty? Well, with all the attention i've gave this subject....hmmm well i don't know because people can be different behind closed doors, i know this for a fact. He is either an extremely nice but stupid guy or one of the most sickest liars. I hope he is not the latter.\""
      ]
     },
     "execution_count": 94,
     "metadata": {},
     "output_type": "execute_result"
    }
   ],
   "source": [
    "# metin içinceki html tag'lerini temizleyelim.\n",
    "\n",
    "sample_review = BeautifulSoup(sample_review).get_text()\n",
    "sample_review"
   ]
  },
  {
   "cell_type": "code",
   "execution_count": 95,
   "id": "e47f19c9-d6cb-4367-99c9-83722542e2cf",
   "metadata": {},
   "outputs": [
    {
     "data": {
      "text/plain": [
       "'With all this stuff going down at the moment with MJ i ve started listening to his music  watching the odd documentary here and there  watched The Wiz and watched Moonwalker again  Maybe i just want to get a certain insight into this guy who i thought was really cool in the eighties just to maybe make up my mind whether he is guilty or innocent  Moonwalker is part biography  part feature film which i remember going to see at the cinema when it was originally released  Some of it has subtle messages about MJ s feeling towards the press and also the obvious message of drugs are bad m kay Visually impressive but of course this is all about Michael Jackson so unless you remotely like MJ in anyway then you are going to hate this and find it boring  Some may call MJ an egotist for consenting to the making of this movie BUT MJ and most of his fans would say that he made it for the fans which if true is really nice of him The actual feature film bit when it finally starts is only on for    minutes or so excluding the Smooth Criminal sequence and Joe Pesci is convincing as a psychopathic all powerful drug lord  Why he wants MJ dead so bad is beyond me  Because MJ overheard his plans  Nah  Joe Pesci s character ranted that he wanted people to know it is he who is supplying drugs etc so i dunno  maybe he just hates MJ s music Lots of cool things in this like MJ turning into a car and a robot and the whole Speed Demon sequence  Also  the director must have had the patience of a saint when it came to filming the kiddy Bad sequence as usually directors hate working with one kid let alone a whole bunch of them performing a complex dance scene Bottom line  this movie is for people who like MJ on one level or another  which i think is most people   If not  then stay away  It does try and give off a wholesome message and ironically MJ s bestest buddy in this movie is a girl  Michael Jackson is truly one of the most talented people ever to grace this planet but is he guilty  Well  with all the attention i ve gave this subject    hmmm well i don t know because people can be different behind closed doors  i know this for a fact  He is either an extremely nice but stupid guy or one of the most sickest liars  I hope he is not the latter '"
      ]
     },
     "execution_count": 95,
     "metadata": {},
     "output_type": "execute_result"
    }
   ],
   "source": [
    "sample_review = re.sub(\"[^a-zA-Z]\",' ',sample_review) # noktalama işaretleri ve sayılardan temizliyoruz - regex kullanarak..\n",
    "sample_review"
   ]
  },
  {
   "cell_type": "code",
   "execution_count": 96,
   "id": "c1b79f95-d660-4bad-b12b-22a74f5f3a38",
   "metadata": {},
   "outputs": [
    {
     "data": {
      "text/plain": [
       "'with all this stuff going down at the moment with mj i ve started listening to his music  watching the odd documentary here and there  watched the wiz and watched moonwalker again  maybe i just want to get a certain insight into this guy who i thought was really cool in the eighties just to maybe make up my mind whether he is guilty or innocent  moonwalker is part biography  part feature film which i remember going to see at the cinema when it was originally released  some of it has subtle messages about mj s feeling towards the press and also the obvious message of drugs are bad m kay visually impressive but of course this is all about michael jackson so unless you remotely like mj in anyway then you are going to hate this and find it boring  some may call mj an egotist for consenting to the making of this movie but mj and most of his fans would say that he made it for the fans which if true is really nice of him the actual feature film bit when it finally starts is only on for    minutes or so excluding the smooth criminal sequence and joe pesci is convincing as a psychopathic all powerful drug lord  why he wants mj dead so bad is beyond me  because mj overheard his plans  nah  joe pesci s character ranted that he wanted people to know it is he who is supplying drugs etc so i dunno  maybe he just hates mj s music lots of cool things in this like mj turning into a car and a robot and the whole speed demon sequence  also  the director must have had the patience of a saint when it came to filming the kiddy bad sequence as usually directors hate working with one kid let alone a whole bunch of them performing a complex dance scene bottom line  this movie is for people who like mj on one level or another  which i think is most people   if not  then stay away  it does try and give off a wholesome message and ironically mj s bestest buddy in this movie is a girl  michael jackson is truly one of the most talented people ever to grace this planet but is he guilty  well  with all the attention i ve gave this subject    hmmm well i don t know because people can be different behind closed doors  i know this for a fact  he is either an extremely nice but stupid guy or one of the most sickest liars  i hope he is not the latter '"
      ]
     },
     "execution_count": 96,
     "metadata": {},
     "output_type": "execute_result"
    }
   ],
   "source": [
    "sample_review = sample_review.lower() ## küçük harfe dönüştürüyoruz, makine öğrenim algoritmalarımızın büyük harfle başlayan kelimeleri farklı kelime olarak algılamaması için yapıyoruz bunu\n",
    "sample_review"
   ]
  },
  {
   "cell_type": "code",
   "execution_count": 97,
   "id": "c8c06593-7c27-432c-bec4-7f17bb44edf2",
   "metadata": {},
   "outputs": [
    {
     "data": {
      "text/plain": [
       "['with',\n",
       " 'all',\n",
       " 'this',\n",
       " 'stuff',\n",
       " 'going',\n",
       " 'down',\n",
       " 'at',\n",
       " 'the',\n",
       " 'moment',\n",
       " 'with',\n",
       " 'mj',\n",
       " 'i',\n",
       " 've',\n",
       " 'started',\n",
       " 'listening',\n",
       " 'to',\n",
       " 'his',\n",
       " 'music',\n",
       " 'watching',\n",
       " 'the',\n",
       " 'odd',\n",
       " 'documentary',\n",
       " 'here',\n",
       " 'and',\n",
       " 'there',\n",
       " 'watched',\n",
       " 'the',\n",
       " 'wiz',\n",
       " 'and',\n",
       " 'watched',\n",
       " 'moonwalker',\n",
       " 'again',\n",
       " 'maybe',\n",
       " 'i',\n",
       " 'just',\n",
       " 'want',\n",
       " 'to',\n",
       " 'get',\n",
       " 'a',\n",
       " 'certain',\n",
       " 'insight',\n",
       " 'into',\n",
       " 'this',\n",
       " 'guy',\n",
       " 'who',\n",
       " 'i',\n",
       " 'thought',\n",
       " 'was',\n",
       " 'really',\n",
       " 'cool',\n",
       " 'in',\n",
       " 'the',\n",
       " 'eighties',\n",
       " 'just',\n",
       " 'to',\n",
       " 'maybe',\n",
       " 'make',\n",
       " 'up',\n",
       " 'my',\n",
       " 'mind',\n",
       " 'whether',\n",
       " 'he',\n",
       " 'is',\n",
       " 'guilty',\n",
       " 'or',\n",
       " 'innocent',\n",
       " 'moonwalker',\n",
       " 'is',\n",
       " 'part',\n",
       " 'biography',\n",
       " 'part',\n",
       " 'feature',\n",
       " 'film',\n",
       " 'which',\n",
       " 'i',\n",
       " 'remember',\n",
       " 'going',\n",
       " 'to',\n",
       " 'see',\n",
       " 'at',\n",
       " 'the',\n",
       " 'cinema',\n",
       " 'when',\n",
       " 'it',\n",
       " 'was',\n",
       " 'originally',\n",
       " 'released',\n",
       " 'some',\n",
       " 'of',\n",
       " 'it',\n",
       " 'has',\n",
       " 'subtle',\n",
       " 'messages',\n",
       " 'about',\n",
       " 'mj',\n",
       " 's',\n",
       " 'feeling',\n",
       " 'towards',\n",
       " 'the',\n",
       " 'press',\n",
       " 'and',\n",
       " 'also',\n",
       " 'the',\n",
       " 'obvious',\n",
       " 'message',\n",
       " 'of',\n",
       " 'drugs',\n",
       " 'are',\n",
       " 'bad',\n",
       " 'm',\n",
       " 'kay',\n",
       " 'visually',\n",
       " 'impressive',\n",
       " 'but',\n",
       " 'of',\n",
       " 'course',\n",
       " 'this',\n",
       " 'is',\n",
       " 'all',\n",
       " 'about',\n",
       " 'michael',\n",
       " 'jackson',\n",
       " 'so',\n",
       " 'unless',\n",
       " 'you',\n",
       " 'remotely',\n",
       " 'like',\n",
       " 'mj',\n",
       " 'in',\n",
       " 'anyway',\n",
       " 'then',\n",
       " 'you',\n",
       " 'are',\n",
       " 'going',\n",
       " 'to',\n",
       " 'hate',\n",
       " 'this',\n",
       " 'and',\n",
       " 'find',\n",
       " 'it',\n",
       " 'boring',\n",
       " 'some',\n",
       " 'may',\n",
       " 'call',\n",
       " 'mj',\n",
       " 'an',\n",
       " 'egotist',\n",
       " 'for',\n",
       " 'consenting',\n",
       " 'to',\n",
       " 'the',\n",
       " 'making',\n",
       " 'of',\n",
       " 'this',\n",
       " 'movie',\n",
       " 'but',\n",
       " 'mj',\n",
       " 'and',\n",
       " 'most',\n",
       " 'of',\n",
       " 'his',\n",
       " 'fans',\n",
       " 'would',\n",
       " 'say',\n",
       " 'that',\n",
       " 'he',\n",
       " 'made',\n",
       " 'it',\n",
       " 'for',\n",
       " 'the',\n",
       " 'fans',\n",
       " 'which',\n",
       " 'if',\n",
       " 'true',\n",
       " 'is',\n",
       " 'really',\n",
       " 'nice',\n",
       " 'of',\n",
       " 'him',\n",
       " 'the',\n",
       " 'actual',\n",
       " 'feature',\n",
       " 'film',\n",
       " 'bit',\n",
       " 'when',\n",
       " 'it',\n",
       " 'finally',\n",
       " 'starts',\n",
       " 'is',\n",
       " 'only',\n",
       " 'on',\n",
       " 'for',\n",
       " 'minutes',\n",
       " 'or',\n",
       " 'so',\n",
       " 'excluding',\n",
       " 'the',\n",
       " 'smooth',\n",
       " 'criminal',\n",
       " 'sequence',\n",
       " 'and',\n",
       " 'joe',\n",
       " 'pesci',\n",
       " 'is',\n",
       " 'convincing',\n",
       " 'as',\n",
       " 'a',\n",
       " 'psychopathic',\n",
       " 'all',\n",
       " 'powerful',\n",
       " 'drug',\n",
       " 'lord',\n",
       " 'why',\n",
       " 'he',\n",
       " 'wants',\n",
       " 'mj',\n",
       " 'dead',\n",
       " 'so',\n",
       " 'bad',\n",
       " 'is',\n",
       " 'beyond',\n",
       " 'me',\n",
       " 'because',\n",
       " 'mj',\n",
       " 'overheard',\n",
       " 'his',\n",
       " 'plans',\n",
       " 'nah',\n",
       " 'joe',\n",
       " 'pesci',\n",
       " 's',\n",
       " 'character',\n",
       " 'ranted',\n",
       " 'that',\n",
       " 'he',\n",
       " 'wanted',\n",
       " 'people',\n",
       " 'to',\n",
       " 'know',\n",
       " 'it',\n",
       " 'is',\n",
       " 'he',\n",
       " 'who',\n",
       " 'is',\n",
       " 'supplying',\n",
       " 'drugs',\n",
       " 'etc',\n",
       " 'so',\n",
       " 'i',\n",
       " 'dunno',\n",
       " 'maybe',\n",
       " 'he',\n",
       " 'just',\n",
       " 'hates',\n",
       " 'mj',\n",
       " 's',\n",
       " 'music',\n",
       " 'lots',\n",
       " 'of',\n",
       " 'cool',\n",
       " 'things',\n",
       " 'in',\n",
       " 'this',\n",
       " 'like',\n",
       " 'mj',\n",
       " 'turning',\n",
       " 'into',\n",
       " 'a',\n",
       " 'car',\n",
       " 'and',\n",
       " 'a',\n",
       " 'robot',\n",
       " 'and',\n",
       " 'the',\n",
       " 'whole',\n",
       " 'speed',\n",
       " 'demon',\n",
       " 'sequence',\n",
       " 'also',\n",
       " 'the',\n",
       " 'director',\n",
       " 'must',\n",
       " 'have',\n",
       " 'had',\n",
       " 'the',\n",
       " 'patience',\n",
       " 'of',\n",
       " 'a',\n",
       " 'saint',\n",
       " 'when',\n",
       " 'it',\n",
       " 'came',\n",
       " 'to',\n",
       " 'filming',\n",
       " 'the',\n",
       " 'kiddy',\n",
       " 'bad',\n",
       " 'sequence',\n",
       " 'as',\n",
       " 'usually',\n",
       " 'directors',\n",
       " 'hate',\n",
       " 'working',\n",
       " 'with',\n",
       " 'one',\n",
       " 'kid',\n",
       " 'let',\n",
       " 'alone',\n",
       " 'a',\n",
       " 'whole',\n",
       " 'bunch',\n",
       " 'of',\n",
       " 'them',\n",
       " 'performing',\n",
       " 'a',\n",
       " 'complex',\n",
       " 'dance',\n",
       " 'scene',\n",
       " 'bottom',\n",
       " 'line',\n",
       " 'this',\n",
       " 'movie',\n",
       " 'is',\n",
       " 'for',\n",
       " 'people',\n",
       " 'who',\n",
       " 'like',\n",
       " 'mj',\n",
       " 'on',\n",
       " 'one',\n",
       " 'level',\n",
       " 'or',\n",
       " 'another',\n",
       " 'which',\n",
       " 'i',\n",
       " 'think',\n",
       " 'is',\n",
       " 'most',\n",
       " 'people',\n",
       " 'if',\n",
       " 'not',\n",
       " 'then',\n",
       " 'stay',\n",
       " 'away',\n",
       " 'it',\n",
       " 'does',\n",
       " 'try',\n",
       " 'and',\n",
       " 'give',\n",
       " 'off',\n",
       " 'a',\n",
       " 'wholesome',\n",
       " 'message',\n",
       " 'and',\n",
       " 'ironically',\n",
       " 'mj',\n",
       " 's',\n",
       " 'bestest',\n",
       " 'buddy',\n",
       " 'in',\n",
       " 'this',\n",
       " 'movie',\n",
       " 'is',\n",
       " 'a',\n",
       " 'girl',\n",
       " 'michael',\n",
       " 'jackson',\n",
       " 'is',\n",
       " 'truly',\n",
       " 'one',\n",
       " 'of',\n",
       " 'the',\n",
       " 'most',\n",
       " 'talented',\n",
       " 'people',\n",
       " 'ever',\n",
       " 'to',\n",
       " 'grace',\n",
       " 'this',\n",
       " 'planet',\n",
       " 'but',\n",
       " 'is',\n",
       " 'he',\n",
       " 'guilty',\n",
       " 'well',\n",
       " 'with',\n",
       " 'all',\n",
       " 'the',\n",
       " 'attention',\n",
       " 'i',\n",
       " 've',\n",
       " 'gave',\n",
       " 'this',\n",
       " 'subject',\n",
       " 'hmmm',\n",
       " 'well',\n",
       " 'i',\n",
       " 'don',\n",
       " 't',\n",
       " 'know',\n",
       " 'because',\n",
       " 'people',\n",
       " 'can',\n",
       " 'be',\n",
       " 'different',\n",
       " 'behind',\n",
       " 'closed',\n",
       " 'doors',\n",
       " 'i',\n",
       " 'know',\n",
       " 'this',\n",
       " 'for',\n",
       " 'a',\n",
       " 'fact',\n",
       " 'he',\n",
       " 'is',\n",
       " 'either',\n",
       " 'an',\n",
       " 'extremely',\n",
       " 'nice',\n",
       " 'but',\n",
       " 'stupid',\n",
       " 'guy',\n",
       " 'or',\n",
       " 'one',\n",
       " 'of',\n",
       " 'the',\n",
       " 'most',\n",
       " 'sickest',\n",
       " 'liars',\n",
       " 'i',\n",
       " 'hope',\n",
       " 'he',\n",
       " 'is',\n",
       " 'not',\n",
       " 'the',\n",
       " 'latter']"
      ]
     },
     "execution_count": 97,
     "metadata": {},
     "output_type": "execute_result"
    }
   ],
   "source": [
    "# stopwords (yani the, is, are gibi kelimeler yapay zeka tarafından kullanılmamasını istiyoruz. Bunlar gramer kelimeri..)\n",
    "# önce split ile kelimeleri bölüyoruz ve listeye dönüştürüyoruz. amacımız stopwords kelimelerini çıkarmak..\n",
    "\n",
    "\n",
    "sample_review_words = sample_review.split() # bu kısımda benim aldığım bir hata vardı açıklamak istiyorum. \n",
    "# yukarıda \"sample_review = data.review[0]\" işlemini yaparken \"sample_review = data[\"review\"][0]\" şeklinde yaptım ve review'u list şeklinde aldı.\n",
    "sample_review_words"
   ]
  },
  {
   "cell_type": "code",
   "execution_count": 98,
   "id": "44d3ba65-9622-48fc-8846-4de29806b4b3",
   "metadata": {},
   "outputs": [
    {
     "data": {
      "text/plain": [
       "437"
      ]
     },
     "execution_count": 98,
     "metadata": {},
     "output_type": "execute_result"
    }
   ],
   "source": [
    "len(sample_review_words)"
   ]
  },
  {
   "cell_type": "code",
   "execution_count": 99,
   "id": "047e2be3-4768-4ce7-ab25-5389ec55114b",
   "metadata": {},
   "outputs": [],
   "source": [
    "# yapılan örnek açıklama sonrası bu temizleme işlemlerini bütün df için yapalım..\n",
    "\n",
    "def cleaning(review):\n",
    "    review = BeautifulSoup(review).get_text() # metin içindeki html tag'lerini temizle\n",
    "    review = re.sub(\"[^a-zA-Z]\",' ',review) # noktalama işaretleri ve sayılardan temizliyoruz - regex kullanarak..\n",
    "    review.lower()\n",
    "    review = review.split()\n",
    "\n",
    "    swords = set(stopwords.words(\"english\"))                      \n",
    "    review = [w for w in review if w not in swords] # metin içindeki stopwordsleri çıkarır        \n",
    "    return(\" \".join(review))"
   ]
  },
  {
   "cell_type": "code",
   "execution_count": 100,
   "id": "e4a6e3a4-7c85-4cab-b5e1-de6b2c2354db",
   "metadata": {},
   "outputs": [
    {
     "name": "stderr",
     "output_type": "stream",
     "text": [
      "/var/folders/w1/s_04487n3sl1mys9v82ddct40000gn/T/ipykernel_67497/4219927646.py:4: MarkupResemblesLocatorWarning: The input looks more like a filename than markup. You may want to open this file and pass the filehandle into Beautiful Soup.\n",
      "  review = BeautifulSoup(review).get_text() # metin içindeki html tag'lerini temizle\n"
     ]
    }
   ],
   "source": [
    "\n",
    "# training datasını yazılan fonk ile temizliyoruz.\n",
    "\n",
    "train_x = []\n",
    "\n",
    "for i in range(len(data[\"review\"])):\n",
    "    train_x.append(cleaning(data[\"review\"][i]))"
   ]
  },
  {
   "cell_type": "code",
   "execution_count": 101,
   "id": "aa11b2ba-91f8-49f8-91e2-d38f3b04c276",
   "metadata": {},
   "outputs": [],
   "source": [
    "#train_x"
   ]
  },
  {
   "cell_type": "code",
   "execution_count": 102,
   "id": "d868d92d-8dbb-4a34-b19b-dfb8fd69cd02",
   "metadata": {},
   "outputs": [
    {
     "name": "stdout",
     "output_type": "stream",
     "text": [
      "[1 1 0 ... 0 0 1]\n"
     ]
    }
   ],
   "source": [
    "x = train_x\n",
    "y = np.array(data[\"sentiment\"])\n",
    "\n",
    "print(y)"
   ]
  },
  {
   "cell_type": "code",
   "execution_count": 103,
   "id": "e96cfc85-5787-477c-a8a5-9f1eb87c3fb7",
   "metadata": {},
   "outputs": [],
   "source": [
    "train_x, test_x, y_train, y_test = train_test_split(x, y, test_size=0.2, random_state=0)"
   ]
  },
  {
   "cell_type": "code",
   "execution_count": 104,
   "id": "7c456353-c6f0-4680-bb57-b623d6451831",
   "metadata": {},
   "outputs": [],
   "source": [
    "# print(y_test)"
   ]
  },
  {
   "cell_type": "code",
   "execution_count": 105,
   "id": "c8a688a8-49ea-4bca-9e36-3544bcec7633",
   "metadata": {},
   "outputs": [],
   "source": [
    "vectorizer = CountVectorizer(max_features=5000) # sklearn içinde bulunan countvectorizer fonksiyonunu kullanarak max 5000 kelimelik bag of words oluşturuyoruz...\n",
    "\n",
    "# CountVectorizer: Bu sınıf, metin verisini sayısal verilere dönüştürmek için kullanılır. \n",
    "# Verilen metinlerdeki kelimelerin sıklığını sayarak, her kelime için bir sütun oluşturan bir özellik vektörü (feature vector) matrisini oluşturur.\n",
    "\n",
    "# max_features=5000: Bu parametre, en fazla 5000 farklı kelimenin özellik vektöründe yer alacağını belirtir. \n",
    "# Yani, kelime sıklığına göre en yaygın 5000 kelime seçilir. Bu, modelin karmaşıklığını azaltır ve aşırı uyum riskini düşürür."
   ]
  },
  {
   "cell_type": "code",
   "execution_count": 106,
   "id": "63fc254f-36ea-4e08-9d0e-ff3e890b04bc",
   "metadata": {},
   "outputs": [],
   "source": [
    "# train verilerimizi feature vektöre matrisine çeviriyoruz\n",
    "\n",
    "train_x = vectorizer.fit_transform(train_x)\n",
    "\n",
    "# train_x artık sayısal bir matris haline gelir. \n",
    "# Bu matris, her satırın bir belgeyi temsil ettiği ve her sütunun belirli bir kelimenin varlığını ya da sıklığını gösterdiği bir yapıya sahiptir."
   ]
  },
  {
   "cell_type": "code",
   "execution_count": 128,
   "id": "54d195f5-9851-4b0b-b88e-e90404e3f803",
   "metadata": {},
   "outputs": [
    {
     "data": {
      "text/plain": [
       "scipy.sparse._csr.csr_matrix"
      ]
     },
     "execution_count": 128,
     "metadata": {},
     "output_type": "execute_result"
    }
   ],
   "source": [
    "type(train_x)"
   ]
  },
  {
   "cell_type": "code",
   "execution_count": 130,
   "id": "5898be38-8b57-47e6-9cb6-e3f8754c73c5",
   "metadata": {},
   "outputs": [
    {
     "data": {
      "text/plain": [
       "<20000x5000 sparse matrix of type '<class 'numpy.int64'>'\n",
       "\twith 1690051 stored elements in Compressed Sparse Row format>"
      ]
     },
     "execution_count": 130,
     "metadata": {},
     "output_type": "execute_result"
    }
   ],
   "source": [
    "train_x"
   ]
  },
  {
   "cell_type": "code",
   "execution_count": 134,
   "id": "927a061a-4bff-4521-9691-d1fc3140e4c4",
   "metadata": {},
   "outputs": [],
   "source": [
    "# modele verileri vermeden önce yani fit etmeden önce array haline getirmeliyiz..\n",
    "\n",
    "train_x = train_x.toarray()\n",
    "train_y = y_train"
   ]
  },
  {
   "cell_type": "code",
   "execution_count": 138,
   "id": "a41e6f7c-f85f-4674-9dd2-579859b4a7fa",
   "metadata": {},
   "outputs": [
    {
     "name": "stdout",
     "output_type": "stream",
     "text": [
      "(20000, 5000) (20000,)\n"
     ]
    }
   ],
   "source": [
    "print(train_x.shape, train_y.shape)"
   ]
  },
  {
   "cell_type": "code",
   "execution_count": 140,
   "id": "5431b2e1-137a-4878-813d-cea322c15068",
   "metadata": {},
   "outputs": [
    {
     "data": {
      "text/plain": [
       "array([1, 1, 1, ..., 1, 1, 1])"
      ]
     },
     "execution_count": 140,
     "metadata": {},
     "output_type": "execute_result"
    }
   ],
   "source": [
    "train_y"
   ]
  },
  {
   "cell_type": "code",
   "execution_count": 142,
   "id": "428ac442-2c69-4db6-9e21-25c200285a31",
   "metadata": {},
   "outputs": [
    {
     "data": {
      "text/html": [
       "<style>#sk-container-id-1 {color: black;background-color: white;}#sk-container-id-1 pre{padding: 0;}#sk-container-id-1 div.sk-toggleable {background-color: white;}#sk-container-id-1 label.sk-toggleable__label {cursor: pointer;display: block;width: 100%;margin-bottom: 0;padding: 0.3em;box-sizing: border-box;text-align: center;}#sk-container-id-1 label.sk-toggleable__label-arrow:before {content: \"▸\";float: left;margin-right: 0.25em;color: #696969;}#sk-container-id-1 label.sk-toggleable__label-arrow:hover:before {color: black;}#sk-container-id-1 div.sk-estimator:hover label.sk-toggleable__label-arrow:before {color: black;}#sk-container-id-1 div.sk-toggleable__content {max-height: 0;max-width: 0;overflow: hidden;text-align: left;background-color: #f0f8ff;}#sk-container-id-1 div.sk-toggleable__content pre {margin: 0.2em;color: black;border-radius: 0.25em;background-color: #f0f8ff;}#sk-container-id-1 input.sk-toggleable__control:checked~div.sk-toggleable__content {max-height: 200px;max-width: 100%;overflow: auto;}#sk-container-id-1 input.sk-toggleable__control:checked~label.sk-toggleable__label-arrow:before {content: \"▾\";}#sk-container-id-1 div.sk-estimator input.sk-toggleable__control:checked~label.sk-toggleable__label {background-color: #d4ebff;}#sk-container-id-1 div.sk-label input.sk-toggleable__control:checked~label.sk-toggleable__label {background-color: #d4ebff;}#sk-container-id-1 input.sk-hidden--visually {border: 0;clip: rect(1px 1px 1px 1px);clip: rect(1px, 1px, 1px, 1px);height: 1px;margin: -1px;overflow: hidden;padding: 0;position: absolute;width: 1px;}#sk-container-id-1 div.sk-estimator {font-family: monospace;background-color: #f0f8ff;border: 1px dotted black;border-radius: 0.25em;box-sizing: border-box;margin-bottom: 0.5em;}#sk-container-id-1 div.sk-estimator:hover {background-color: #d4ebff;}#sk-container-id-1 div.sk-parallel-item::after {content: \"\";width: 100%;border-bottom: 1px solid gray;flex-grow: 1;}#sk-container-id-1 div.sk-label:hover label.sk-toggleable__label {background-color: #d4ebff;}#sk-container-id-1 div.sk-serial::before {content: \"\";position: absolute;border-left: 1px solid gray;box-sizing: border-box;top: 0;bottom: 0;left: 50%;z-index: 0;}#sk-container-id-1 div.sk-serial {display: flex;flex-direction: column;align-items: center;background-color: white;padding-right: 0.2em;padding-left: 0.2em;position: relative;}#sk-container-id-1 div.sk-item {position: relative;z-index: 1;}#sk-container-id-1 div.sk-parallel {display: flex;align-items: stretch;justify-content: center;background-color: white;position: relative;}#sk-container-id-1 div.sk-item::before, #sk-container-id-1 div.sk-parallel-item::before {content: \"\";position: absolute;border-left: 1px solid gray;box-sizing: border-box;top: 0;bottom: 0;left: 50%;z-index: -1;}#sk-container-id-1 div.sk-parallel-item {display: flex;flex-direction: column;z-index: 1;position: relative;background-color: white;}#sk-container-id-1 div.sk-parallel-item:first-child::after {align-self: flex-end;width: 50%;}#sk-container-id-1 div.sk-parallel-item:last-child::after {align-self: flex-start;width: 50%;}#sk-container-id-1 div.sk-parallel-item:only-child::after {width: 0;}#sk-container-id-1 div.sk-dashed-wrapped {border: 1px dashed gray;margin: 0 0.4em 0.5em 0.4em;box-sizing: border-box;padding-bottom: 0.4em;background-color: white;}#sk-container-id-1 div.sk-label label {font-family: monospace;font-weight: bold;display: inline-block;line-height: 1.2em;}#sk-container-id-1 div.sk-label-container {text-align: center;}#sk-container-id-1 div.sk-container {/* jupyter's `normalize.less` sets `[hidden] { display: none; }` but bootstrap.min.css set `[hidden] { display: none !important; }` so we also need the `!important` here to be able to override the default hidden behavior on the sphinx rendered scikit-learn.org. See: https://github.com/scikit-learn/scikit-learn/issues/21755 */display: inline-block !important;position: relative;}#sk-container-id-1 div.sk-text-repr-fallback {display: none;}</style><div id=\"sk-container-id-1\" class=\"sk-top-container\"><div class=\"sk-text-repr-fallback\"><pre>RandomForestClassifier(random_state=0)</pre><b>In a Jupyter environment, please rerun this cell to show the HTML representation or trust the notebook. <br />On GitHub, the HTML representation is unable to render, please try loading this page with nbviewer.org.</b></div><div class=\"sk-container\" hidden><div class=\"sk-item\"><div class=\"sk-estimator sk-toggleable\"><input class=\"sk-toggleable__control sk-hidden--visually\" id=\"sk-estimator-id-1\" type=\"checkbox\" checked><label for=\"sk-estimator-id-1\" class=\"sk-toggleable__label sk-toggleable__label-arrow\">RandomForestClassifier</label><div class=\"sk-toggleable__content\"><pre>RandomForestClassifier(random_state=0)</pre></div></div></div></div></div>"
      ],
      "text/plain": [
       "RandomForestClassifier(random_state=0)"
      ]
     },
     "execution_count": 142,
     "metadata": {},
     "output_type": "execute_result"
    }
   ],
   "source": [
    "\n",
    "# Random Forest Modeli oluşturma\n",
    "\n",
    "model  = RandomForestClassifier(n_estimators=100, random_state=0) # modelin oluşturacağı karar ağaçlarının sayısı 100\n",
    "model.fit(train_x, train_y)"
   ]
  },
  {
   "cell_type": "code",
   "execution_count": 144,
   "id": "219daf65-1aab-4766-a13f-7df7fdbc487d",
   "metadata": {},
   "outputs": [],
   "source": [
    "# Test Datası ile\n",
    "\n",
    "# Test verilerini feature vektöre matrisine çevirip\n",
    "# Yani aynı işlemleri(bag of wordse dönüştürme) tekrarlıyoruz bu sefer test datası için\n",
    "\n",
    "test_xx = vectorizer.transform(test_x)"
   ]
  },
  {
   "cell_type": "code",
   "execution_count": 146,
   "id": "56325ed3-86e0-4a9c-8ba0-17061d3d10bf",
   "metadata": {},
   "outputs": [
    {
     "data": {
      "text/plain": [
       "<5000x5000 sparse matrix of type '<class 'numpy.int64'>'\n",
       "\twith 415957 stored elements in Compressed Sparse Row format>"
      ]
     },
     "execution_count": 146,
     "metadata": {},
     "output_type": "execute_result"
    }
   ],
   "source": [
    "test_xx"
   ]
  },
  {
   "cell_type": "code",
   "execution_count": 148,
   "id": "df1ec141-37f6-4b51-8d99-395e0a3ec29c",
   "metadata": {},
   "outputs": [
    {
     "data": {
      "text/plain": [
       "(5000, 5000)"
      ]
     },
     "execution_count": 148,
     "metadata": {},
     "output_type": "execute_result"
    }
   ],
   "source": [
    "test_xx.shape"
   ]
  },
  {
   "cell_type": "code",
   "execution_count": 150,
   "id": "36b5c50f-7600-40b6-8a5e-8b5d2f0bbffd",
   "metadata": {},
   "outputs": [],
   "source": [
    "test_predict = model.predict(test_xx)"
   ]
  },
  {
   "cell_type": "code",
   "execution_count": 152,
   "id": "4390c367-cfa9-471d-94e7-e8497ebaa2b8",
   "metadata": {},
   "outputs": [
    {
     "data": {
      "text/plain": [
       "array([0, 1, 1, ..., 1, 0, 1])"
      ]
     },
     "execution_count": 152,
     "metadata": {},
     "output_type": "execute_result"
    }
   ],
   "source": [
    "test_predict"
   ]
  },
  {
   "cell_type": "code",
   "execution_count": 156,
   "id": "32960f94-0682-44a1-8d26-2301b31558c6",
   "metadata": {},
   "outputs": [],
   "source": [
    "acc = roc_auc_score(y_test, test_predict)"
   ]
  },
  {
   "cell_type": "code",
   "execution_count": 164,
   "id": "97573e54-b5a8-4d64-b146-def2f56f5c17",
   "metadata": {},
   "outputs": [
    {
     "name": "stdout",
     "output_type": "stream",
     "text": [
      "Doğruluk oranı : %  84.79788389191792\n"
     ]
    }
   ],
   "source": [
    "print(\"Doğruluk oranı : % \", acc * 100)"
   ]
  },
  {
   "cell_type": "code",
   "execution_count": 160,
   "id": "4ccadf27-26d8-417d-a18a-9e11da15f8d6",
   "metadata": {},
   "outputs": [],
   "source": [
    "# sklearn.metrics.roc_auc_score(y_true, y_score, *, average='macro', sample_weight=None, max_fpr=None, multi_class='raise', labels=None)"
   ]
  },
  {
   "cell_type": "code",
   "execution_count": null,
   "id": "0dfdc9b7-f905-4094-bfb0-fa601edb0a6e",
   "metadata": {},
   "outputs": [],
   "source": []
  }
 ],
 "metadata": {
  "kernelspec": {
   "display_name": "Python 3 (ipykernel)",
   "language": "python",
   "name": "python3"
  },
  "language_info": {
   "codemirror_mode": {
    "name": "ipython",
    "version": 3
   },
   "file_extension": ".py",
   "mimetype": "text/x-python",
   "name": "python",
   "nbconvert_exporter": "python",
   "pygments_lexer": "ipython3",
   "version": "3.11.7"
  }
 },
 "nbformat": 4,
 "nbformat_minor": 5
}
