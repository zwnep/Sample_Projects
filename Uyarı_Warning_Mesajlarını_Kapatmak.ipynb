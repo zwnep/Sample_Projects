{
 "cells": [
  {
   "cell_type": "markdown",
   "id": "78793325-bf80-4ae8-aa35-f24db31fa80f",
   "metadata": {},
   "source": [
    "## Jupyter Notebook Uyarı/Warning Mesajlarını Kapatmak"
   ]
  },
  {
   "cell_type": "code",
   "execution_count": null,
   "id": "923a3be1-5b88-4c91-9f3a-210aab0ecf3d",
   "metadata": {},
   "outputs": [],
   "source": [
    "# Jupyter Notebook Python Uyarı/Warning Mesajlarını Kapatmak için \n",
    "# kodunuzun en başına aşağıdaki iki satırı yazmalısınız:"
   ]
  },
  {
   "cell_type": "code",
   "execution_count": 2,
   "id": "4747ee91-8704-4bc9-be27-a30883034f28",
   "metadata": {},
   "outputs": [],
   "source": [
    "import warnings\n",
    "warnings.filterwarnings(\"ignore\")"
   ]
  },
  {
   "cell_type": "code",
   "execution_count": null,
   "id": "60ff5b93-c88e-46f9-affb-ff64385891d3",
   "metadata": {},
   "outputs": [],
   "source": []
  }
 ],
 "metadata": {
  "kernelspec": {
   "display_name": "Python 3 (ipykernel)",
   "language": "python",
   "name": "python3"
  },
  "language_info": {
   "codemirror_mode": {
    "name": "ipython",
    "version": 3
   },
   "file_extension": ".py",
   "mimetype": "text/x-python",
   "name": "python",
   "nbconvert_exporter": "python",
   "pygments_lexer": "ipython3",
   "version": "3.11.7"
  }
 },
 "nbformat": 4,
 "nbformat_minor": 5
}
